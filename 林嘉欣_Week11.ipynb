{
  "nbformat": 4,
  "nbformat_minor": 0,
  "metadata": {
    "colab": {
      "name": "林嘉欣-Week11.ipynb",
      "provenance": [],
      "authorship_tag": "ABX9TyNCDXP+qDxv7fzzjLwU2+YJ",
      "include_colab_link": true
    },
    "kernelspec": {
      "name": "python3",
      "display_name": "Python 3"
    }
  },
  "cells": [
    {
      "cell_type": "markdown",
      "metadata": {
        "id": "view-in-github",
        "colab_type": "text"
      },
      "source": [
        "<a href=\"https://colab.research.google.com/github/Jia-Xin-Lin/Computational-Thinking-and-Program-Design/blob/master/%E6%9E%97%E5%98%89%E6%AC%A3_Week11.ipynb\" target=\"_parent\"><img src=\"https://colab.research.google.com/assets/colab-badge.svg\" alt=\"Open In Colab\"/></a>"
      ]
    },
    {
      "cell_type": "markdown",
      "metadata": {
        "id": "CSy_3uyFo83D"
      },
      "source": [
        "# 習題解答:報告分組"
      ]
    },
    {
      "cell_type": "code",
      "metadata": {
        "colab": {
          "base_uri": "https://localhost:8080/"
        },
        "id": "a2unpCF8oZ6x",
        "outputId": "60bc47d2-3f97-4e3c-c016-73084b11de9d"
      },
      "source": [
        "# 方法(一);商數\n",
        "## Input\n",
        "number = input(\"Enter your seat number?\")\n",
        "number = int(number)\n",
        "## Process\n",
        "group = (number - 1) // 5\n",
        "## Output\n",
        "print(\"Groups is\", group)\n"
      ],
      "execution_count": 1,
      "outputs": [
        {
          "output_type": "stream",
          "text": [
            "Enter your seat number?19\n",
            "Groups is 3\n"
          ],
          "name": "stdout"
        }
      ]
    }
  ]
}