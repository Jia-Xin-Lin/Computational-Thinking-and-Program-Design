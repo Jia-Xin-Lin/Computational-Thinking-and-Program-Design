{
  "nbformat": 4,
  "nbformat_minor": 0,
  "metadata": {
    "colab": {
      "name": "week8.ipynb",
      "provenance": [],
      "include_colab_link": true
    },
    "kernelspec": {
      "name": "python3",
      "display_name": "Python 3"
    }
  },
  "cells": [
    {
      "cell_type": "markdown",
      "metadata": {
        "id": "view-in-github",
        "colab_type": "text"
      },
      "source": [
        "<a href=\"https://colab.research.google.com/github/Jia-Xin-Lin/Computational-Thinking-and-Program-Design/blob/master/week8.ipynb\" target=\"_parent\"><img src=\"https://colab.research.google.com/assets/colab-badge.svg\" alt=\"Open In Colab\"/></a>"
      ]
    },
    {
      "cell_type": "code",
      "metadata": {
        "id": "UKWM8rRXRZ02",
        "outputId": "bf962038-a844-427c-b2dc-11f85fcfa4ad",
        "colab": {
          "base_uri": "https://localhost:8080/"
        }
      },
      "source": [
        "print(\"一件上衣300元，一件褲子350元，一件背心400元\")\n",
        "a=int(input(\"上衣購買數量?\"))\n",
        "b=int(input(\"褲子購買數量?\"))\n",
        "c=int(input(\"背心購買數量?\"))\n",
        "s=a*300+b*350+c*400\n",
        "print(\"總金額\",s,\"元\")\n",
        "\n",
        "\n"
      ],
      "execution_count": 4,
      "outputs": [
        {
          "output_type": "stream",
          "text": [
            "一件上衣300元，一件褲子350元，一件背心400元\n",
            "上衣購買數量?2\n",
            "褲子購買數量?3\n",
            "背心購買數量?5\n",
            "總金額 3650 元\n"
          ],
          "name": "stdout"
        }
      ]
    },
    {
      "cell_type": "code",
      "metadata": {
        "id": "1u5tfKEUJ6zk",
        "outputId": "da31f5ed-3207-4940-c8ec-9f029bd0cad5",
        "colab": {
          "base_uri": "https://localhost:8080/"
        }
      },
      "source": [
        "a=int(input(\"請輸入飲料購買數量?\"))\n",
        "b=int(a/12)*200+(a%12)*20\n",
        "print(\"需花費\",b)\n",
        "\n",
        "\n"
      ],
      "execution_count": 5,
      "outputs": [
        {
          "output_type": "stream",
          "text": [
            "請輸入飲料購買數量?30\n",
            "需花費 520\n"
          ],
          "name": "stdout"
        }
      ]
    },
    {
      "cell_type": "code",
      "metadata": {
        "id": "5kHsoRIhOrbi",
        "outputId": "900afb5e-1995-46d5-a81b-99abf1d5ed40",
        "colab": {
          "base_uri": "https://localhost:8080/"
        }
      },
      "source": [
        "a=int(input(\"第一次期中考成績?\"))\n",
        "b=int(input(\"第二次期中考成績?\"))\n",
        "c=int(input(\"期末考成績?\"))\n",
        "x=a+b+c\n",
        "y=x/3\n",
        "print(\"總分為\",x,\"平均為\",y)\n",
        "\n"
      ],
      "execution_count": 9,
      "outputs": [
        {
          "output_type": "stream",
          "text": [
            "第一次期中考成績?75\n",
            "第二次期中考成績?80\n",
            "期末考成績?65\n",
            "總分為 220 平均為 73.33333333333333\n"
          ],
          "name": "stdout"
        }
      ]
    }
  ]
}