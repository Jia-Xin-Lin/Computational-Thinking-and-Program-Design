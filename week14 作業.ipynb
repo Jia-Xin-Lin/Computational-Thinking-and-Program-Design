{
  "nbformat": 4,
  "nbformat_minor": 0,
  "metadata": {
    "colab": {
      "name": "Untitled7.ipynb",
      "provenance": [],
      "authorship_tag": "ABX9TyOYgyWpMDe3YC32oX+Ml/su",
      "include_colab_link": true
    },
    "kernelspec": {
      "name": "python3",
      "display_name": "Python 3"
    }
  },
  "cells": [
    {
      "cell_type": "markdown",
      "metadata": {
        "id": "view-in-github",
        "colab_type": "text"
      },
      "source": [
        "<a href=\"https://colab.research.google.com/github/Jia-Xin-Lin/Computational-Thinking-and-Program-Design/blob/master/week14%20%E4%BD%9C%E6%A5%AD.ipynb\" target=\"_parent\"><img src=\"https://colab.research.google.com/assets/colab-badge.svg\" alt=\"Open In Colab\"/></a>"
      ]
    },
    {
      "cell_type": "code",
      "metadata": {
        "colab": {
          "base_uri": "https://localhost:8080/"
        },
        "id": "1uQz_aiQ9PXV",
        "outputId": "2883bb14-03df-4ac3-ed9a-9dd42eb00408"
      },
      "source": [
        "names = [\"陳妤瑄\",\"林嘉欣\",\"游佳樺\",\"簡郁虹\",\"王子維\",]\r\n",
        "dessert = [\"鬆餅\",\"抹茶\",\"鮮奶茶\",\"紅茶\",\"義大利麵\"]\r\n",
        "for i in range(len(names)):\r\n",
        "    print(\"Hi,my name is\",names[i],\".My favorite dessert is\",dessert[i])\r\n",
        "a=int(input('請輸入開始值:'))\r\n",
        "n=int(input('請輸入終止值:'))\r\n",
        "s=int(input(\"請輸入遞增值:\"))\r\n",
        "sum=0\r\n",
        "for n in range(a,n+1,s):\r\n",
        "    sum=sum+n**2\r\n",
        "    print('n為', n, '時，累加結果為', sum)"
      ],
      "execution_count": 3,
      "outputs": [
        {
          "output_type": "stream",
          "text": [
            "Hi,my name is 陳妤瑄 .My favorite dessert is 鬆餅\n",
            "Hi,my name is 林嘉欣 .My favorite dessert is 抹茶\n",
            "Hi,my name is 游佳樺 .My favorite dessert is 鮮奶茶\n",
            "Hi,my name is 簡郁虹 .My favorite dessert is 紅茶\n",
            "Hi,my name is 王子維 .My favorite dessert is 義大利麵\n",
            "請輸入開始值:1\n",
            "請輸入終止值:5\n",
            "請輸入遞增值:2\n",
            "n為 1 時，累加結果為 1\n",
            "n為 3 時，累加結果為 10\n",
            "n為 5 時，累加結果為 35\n"
          ],
          "name": "stdout"
        }
      ]
    }
  ]
}